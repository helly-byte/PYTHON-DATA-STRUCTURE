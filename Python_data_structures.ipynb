{
  "nbformat": 4,
  "nbformat_minor": 0,
  "metadata": {
    "colab": {
      "provenance": []
    },
    "kernelspec": {
      "name": "python3",
      "display_name": "Python 3"
    },
    "language_info": {
      "name": "python"
    }
  },
  "cells": [
    {
      "cell_type": "markdown",
      "source": [
        "# Data Types and Stuructures"
      ],
      "metadata": {
        "id": "Vc6xuhVuk6-b"
      }
    },
    {
      "cell_type": "markdown",
      "source": [
        "#Theoritical questions"
      ],
      "metadata": {
        "id": "5XEF-8Okro4h"
      }
    },
    {
      "cell_type": "markdown",
      "source": [
        "1. What are data structures, and why are they important?\n",
        "  - Data structure of organizing and storing data so that it can be accessed and manipulated effeciency.\n",
        "  - Efficient Data management: Organizes data in a way that makes access and manipulation easier>\n",
        "  - Solves Complex promblems: Enables implementation of advanced algorithms, making it possible to solve real - world challenges like navigation, scheduling, and more.\n",
        "  - Scalability: Supports buliding software that can handle large and growing dataset efficiently.\n",
        "  - Reusability: Many darta structures are reusable across doffrent applications, saving devlopement time.\n",
        "\n",
        "2. Explain the difrrence between mutable and immutable data types with examples.\n",
        " - Mutable and immutable data types refer to whether an object can be modified after it is created.\n",
        " - Mutable Data Types: Object whose values can be changed after creation>\n",
        " - Immutable: Objectv whose values cannot be changed after creation. Any opration that appers to modify an immutable object creates a new object.\n",
        "\n"
      ],
      "metadata": {
        "id": "GiSpFHC_r9fV"
      }
    },
    {
      "cell_type": "code",
      "source": [
        "# Mutable example\n",
        "my_list = [1, 2, 3]\n",
        "my_list[0] = 10\n",
        "print(my_list)"
      ],
      "metadata": {
        "colab": {
          "base_uri": "https://localhost:8080/"
        },
        "id": "ifCtrCs9vh0P",
        "outputId": "2259a8de-e0d3-4d22-8e0f-cb896a0cf34b"
      },
      "execution_count": 1,
      "outputs": [
        {
          "output_type": "stream",
          "name": "stdout",
          "text": [
            "[10, 2, 3]\n"
          ]
        }
      ]
    },
    {
      "cell_type": "code",
      "source": [
        "# Immutable example\n",
        "my_tuple = (1, 2, 3)\n",
        "# my_tuple[0] = 10 #This wuid raise a Typeerror\n",
        "print(my_tuple)\n"
      ],
      "metadata": {
        "colab": {
          "base_uri": "https://localhost:8080/"
        },
        "id": "AVS8EiWxv3dO",
        "outputId": "dbe3578f-7b75-4190-9b69-ddd630444ce8"
      },
      "execution_count": 2,
      "outputs": [
        {
          "output_type": "stream",
          "name": "stdout",
          "text": [
            "(1, 2, 3)\n"
          ]
        }
      ]
    },
    {
      "cell_type": "markdown",
      "source": [
        "3. What are the main diffrences between lists and tuples in python?\n",
        "\n",
        "- Lists: Mutable, meaning you can modify their content(add, remove, or change elements.)\n",
        "-Lists: Defined with square brackets[].\n",
        "- Lists: Slower than tuples for iteration and operations due to their mutable nature.\n",
        "- Tuples: Immutable, meaning their content cannot be modified after creation\n",
        "- Tuples: Defined with parenttheses().\n",
        "- Tuples: Faster because they are immutable and their memory usage is more efficient.\n",
        "\n",
        "4. Describe how dictionaries store data.\n",
        "- Dictinaries in python store data as key-vvalue pairs in a structure called a hash table . This design allows for fast access, insertin , and deletion of elemnents, typically in comstant time 0(1)o(1).\n"
      ],
      "metadata": {
        "id": "zJqVHALUwjX7"
      }
    },
    {
      "cell_type": "code",
      "source": [
        "my_dict = {\"name\": \"Alice\", \"age\": 25 , \"city\" : \"New york\"}\n",
        "print(my_dict[\"age\"])"
      ],
      "metadata": {
        "colab": {
          "base_uri": "https://localhost:8080/"
        },
        "id": "5R_a0sB7zkVt",
        "outputId": "0c7e7894-1ccf-4daf-d565-3fb58013ba6a"
      },
      "execution_count": 3,
      "outputs": [
        {
          "output_type": "stream",
          "name": "stdout",
          "text": [
            "25\n"
          ]
        }
      ]
    },
    {
      "cell_type": "markdown",
      "source": [
        "5. Why might ypu use a set instead of a list in python?\n",
        "- We might use a set instead of a list in python when.\n",
        "- No Duplicates allowed: sets automatically remove duplicate elements.\n",
        "- Fast Membership tests: Checking if an item exists in a set is faster (avrage 0(1)complexity) comapred to a list (o(n) complexity).\n",
        "- Unorderd Collection: you don't ned to maintain the order of elements.\n",
        "\n",
        "6. What is a string in python, and how is it diffrent from a list?\n",
        "- A string in python is a sequence of characters enclosed in quotes (single, double or triple quotes).For example, \"hello\" or 'world'. Strings are used to represnt text. String is mutable it cannot changed. it only contains characters but list are mutable it will changed. List contain any type of element.\n",
        "\n",
        "7. How do tuples ensure data intergrity in python?\n",
        "- Tuples ensure data intergrity in python primarily through immutablity. Once a tuple is created, ts elemnets cannot be modified, added , or removed . This makes tuples a reliable choice for storing data that should remain constant  throghout the program.\n",
        "\n",
        "8. What is a hash table, and how does it relate to dictionaries in python?\n",
        "- A hash table is a data structure that proves a way to store and retrieve\n",
        "data effciently using a key-value pair mechanism. it uses a hash function to compute a unique index (or hash code) for each key, which determines where to corresponding value is stored.\n",
        "\n",
        "9. Can lists in python can contain diffrent data types.\n",
        "- Yes, lists in python can contain diffrent data types.\n"
      ],
      "metadata": {
        "id": "0jBKL9V-z_eQ"
      }
    },
    {
      "cell_type": "code",
      "source": [
        "my_lists = [1, \"hello\", 3.14, True]\n",
        "#This list contains an integer , a sting, a float , and a boolean value."
      ],
      "metadata": {
        "id": "NCGka9tO5QBP"
      },
      "execution_count": 4,
      "outputs": []
    },
    {
      "cell_type": "markdown",
      "source": [
        "10. Explain why strings are immutable in python?\n",
        " - Strings in python are \"immutable\" which means they cannot be changed after they are created.Some other immutable data types are integers ,float ,boolean, etc. The immutablity of python string is very useful it helps in hashing , performance optimization , safety, ease of use , etc.\n",
        "\n",
        "11. What advantages do dictionaries offer over lists for certain tasks ?\n",
        "- Dictionaries have several advantages over lists for certain tasks. including faster lookups, easier code reading, more flexbility in storing data.\n",
        "\n",
        "12. Describe a scenario where using a tuple would be preferable over a list.\n",
        "- A scenario where a tuple would be preferable over a list is when you need to store a collection of data that should never be modified after it's a created , like representing a set of fixed coordinates in a game , storing configuration settings that shouldun't be chnaged during program execution, or defining a data structure where immutability is important for data intergrity,ensuring that the values remian consistent throughout the program.\n",
        "\n",
        "13. How do sets handle duplicvate values in Python?\n",
        "- Sets in python automatically handle duplicate values by discarding them. When you create a set or add elements to it, any duplicate values are simply ignored, ensuring that the set contains only unique elements.\n",
        "\n",
        "14. How does thr \"in\" keyword work diffrently for lists and dictionaries?\n",
        "- When using the \"in\" keyword, it checks if an element exists within a list by comparing it to each item in the list based on its position , while in a dictionary , it checks if a specific key exists within the key value pairs , meaning it only looks for the key and not the associated value.\n",
        "\n",
        "15. Can you modify the elements of a tuple? Explain why or why not?\n",
        "- No , you cannot modify the elements of a tuple in python because tuples are \"immutable\" , meaning once created , their elements cannot be changed , added or removed if you try to modify a tuple element , you willl encounter a TypeError.\n",
        "\n",
        "16. What is a nested dictionary ,a nd givean example of its use case?\n",
        "- Nesting Dictionary means putting a dictionary inside another dictionary . Nesting is of great use as the kind of information we can model in program in expanded greatly.\n",
        "\n",
        "17. Describe the time complexity of accessing elements in a dictionary.\n",
        "- The time complexity of retrieving a value by its key in a dictionary is 0(1). This is beacuse dictionaries use a hash table internally which allows constant time lookup. why 0(1)? Hash tables use the hassh of the key to find the memory loction which enables direct access.\n",
        "\n",
        "18. In what situations are lists preferred over dictionaries?\n",
        "- Lists are prefrred over dictionaries when the order of elements , or when you need to access data based on its position in the sequence (using indexes), rather than a unique key to look up a value.\n",
        "\n",
        "19. Why are diictionaries considered unordered ,and how does that affect data retrieval?\n",
        "- Dictionarioes in python are historically considered unoredred collections because the oreder if items was not guranteed to be preserved in earlier versions of python (prior to version 3.7 ). staring with python3.7, dictionaries are oredered by insertion order as an implementation detail (and it was officially guranteed staring with python 3.8). However , some older explanations and habits still describe them as unordered due to thier original behaviour .\n",
        "\n",
        "20. Explain the diffrence between a list and a doctionary in terms of data retrieval.\n",
        "- A list retrieves data using its index position (a number starting from 0), while a dictionary retrieves data using a specific key, meaning you access elements in a list based on their order in the sequence, whereas in a dictionary , you access elements by providing a unique identifier(the key) that maps to the desired value this makes dictionaries significantly faster for lookups when you need to find specific piece of data quickly based on a known key.\n",
        "\n"
      ],
      "metadata": {
        "id": "goEHJwIX6B-j"
      }
    },
    {
      "cell_type": "markdown",
      "source": [
        "#Practical questions"
      ],
      "metadata": {
        "id": "VDdJQKv1leiU"
      }
    },
    {
      "cell_type": "markdown",
      "source": [
        "1. Write  acode to create a string with your name and print it."
      ],
      "metadata": {
        "id": "ReITq3-Zln7z"
      }
    },
    {
      "cell_type": "code",
      "source": [
        "Name = \"Helly shah\"\n",
        "print(Name)"
      ],
      "metadata": {
        "colab": {
          "base_uri": "https://localhost:8080/"
        },
        "id": "WsUBB7TYlzVe",
        "outputId": "8304902f-f7ce-4715-91bd-fc4a5af7a972"
      },
      "execution_count": 1,
      "outputs": [
        {
          "output_type": "stream",
          "name": "stdout",
          "text": [
            "Helly shah\n"
          ]
        }
      ]
    },
    {
      "cell_type": "markdown",
      "source": [
        "2. Write a code to find the length of the string \"Hello World\"."
      ],
      "metadata": {
        "id": "RJEoo2PBmANX"
      }
    },
    {
      "cell_type": "code",
      "source": [
        "len_nam = \"Hello World\"\n",
        "print(len(len_nam))"
      ],
      "metadata": {
        "colab": {
          "base_uri": "https://localhost:8080/"
        },
        "id": "KHlbi3m2mRS7",
        "outputId": "012ec69e-c78c-4685-e87b-da5597858cb1"
      },
      "execution_count": 2,
      "outputs": [
        {
          "output_type": "stream",
          "name": "stdout",
          "text": [
            "11\n"
          ]
        }
      ]
    },
    {
      "cell_type": "markdown",
      "source": [
        "3. Write a code to slice the first 3 characters form the string \"Python Programming\".\n"
      ],
      "metadata": {
        "id": "a2aj6xSHmc1l"
      }
    },
    {
      "cell_type": "code",
      "source": [
        "slic = \"Python Programming\"\n",
        "print(slic[0:3])"
      ],
      "metadata": {
        "colab": {
          "base_uri": "https://localhost:8080/"
        },
        "id": "YQdCD2zBmqnO",
        "outputId": "795ed72c-cf77-440f-9ee2-da5ddf14617c"
      },
      "execution_count": 3,
      "outputs": [
        {
          "output_type": "stream",
          "name": "stdout",
          "text": [
            "Pyt\n"
          ]
        }
      ]
    },
    {
      "cell_type": "markdown",
      "source": [
        "4. Write a code to convert the string \"hello\" to uppercase."
      ],
      "metadata": {
        "id": "VgMyqpH-m2iu"
      }
    },
    {
      "cell_type": "code",
      "source": [
        "up_str = \"hello\"\n",
        "up_str .upper()"
      ],
      "metadata": {
        "colab": {
          "base_uri": "https://localhost:8080/",
          "height": 35
        },
        "id": "8wP5Q_pBm_vE",
        "outputId": "d034fee5-daa5-460e-9452-cede1315140a"
      },
      "execution_count": 4,
      "outputs": [
        {
          "output_type": "execute_result",
          "data": {
            "text/plain": [
              "'HELLO'"
            ],
            "application/vnd.google.colaboratory.intrinsic+json": {
              "type": "string"
            }
          },
          "metadata": {},
          "execution_count": 4
        }
      ]
    },
    {
      "cell_type": "markdown",
      "source": [
        "5. Write a code to replace the word \"apple\" with \"orange\" in the string \"i like apple\"."
      ],
      "metadata": {
        "id": "Swb3VUHpnKkl"
      }
    },
    {
      "cell_type": "code",
      "source": [
        "text = \"I like apple\"\n",
        "new_text = text.replace(\"apple\" , \"orange\")\n",
        "print(new_text)"
      ],
      "metadata": {
        "colab": {
          "base_uri": "https://localhost:8080/"
        },
        "id": "tCLrcUdYnZ6M",
        "outputId": "f1aa2cdd-343e-4633-97f4-9663900dec2f"
      },
      "execution_count": 5,
      "outputs": [
        {
          "output_type": "stream",
          "name": "stdout",
          "text": [
            "I like orange\n"
          ]
        }
      ]
    },
    {
      "cell_type": "markdown",
      "source": [
        "6. Write a code to create a list with numbers 1 to 5 and print it."
      ],
      "metadata": {
        "id": "4nbnEHxcnrgs"
      }
    },
    {
      "cell_type": "code",
      "source": [
        "number = [1, 2, 3, 4, 5]\n",
        "print(number)"
      ],
      "metadata": {
        "colab": {
          "base_uri": "https://localhost:8080/"
        },
        "id": "DIlFKt_Mn1lc",
        "outputId": "a0edab9c-d6d6-4684-9c70-ace08b929396"
      },
      "execution_count": 6,
      "outputs": [
        {
          "output_type": "stream",
          "name": "stdout",
          "text": [
            "[1, 2, 3, 4, 5]\n"
          ]
        }
      ]
    },
    {
      "cell_type": "markdown",
      "source": [
        "7. Write a code to append the number 10 to the list [1, 2, 3, 4]."
      ],
      "metadata": {
        "id": "RuW8vBYsn_zV"
      }
    },
    {
      "cell_type": "code",
      "source": [
        "num = [1,2,3,4]\n",
        "num.append(10)\n",
        "print(num)"
      ],
      "metadata": {
        "colab": {
          "base_uri": "https://localhost:8080/"
        },
        "id": "7cEpXEAooOz7",
        "outputId": "126743b3-ff24-4703-df86-563d4dde9e31"
      },
      "execution_count": 7,
      "outputs": [
        {
          "output_type": "stream",
          "name": "stdout",
          "text": [
            "[1, 2, 3, 4, 10]\n"
          ]
        }
      ]
    },
    {
      "cell_type": "markdown",
      "source": [
        "8. Write a code to remove the number 3 from the list [1,2,3,4,5].\n",
        "\n"
      ],
      "metadata": {
        "id": "i5faRyltocdr"
      }
    },
    {
      "cell_type": "code",
      "source": [
        "num = [1,2,3,4,5]\n",
        "num.remove(3)\n",
        "print(num)"
      ],
      "metadata": {
        "colab": {
          "base_uri": "https://localhost:8080/"
        },
        "id": "XyP5_ya4opvp",
        "outputId": "098ca575-f948-4ca0-cfad-87a2939c607b"
      },
      "execution_count": 8,
      "outputs": [
        {
          "output_type": "stream",
          "name": "stdout",
          "text": [
            "[1, 2, 4, 5]\n"
          ]
        }
      ]
    },
    {
      "cell_type": "markdown",
      "source": [
        "9. Write a code to access the second element in the list['a','b','c','d'].\n"
      ],
      "metadata": {
        "id": "2AwX20bdo3lj"
      }
    },
    {
      "cell_type": "code",
      "source": [
        "alp = ['a','b','c','d']\n",
        "print(alp[1])"
      ],
      "metadata": {
        "colab": {
          "base_uri": "https://localhost:8080/"
        },
        "id": "3JLK90M5pIF8",
        "outputId": "022c5970-5961-4c60-cf51-469951b824d8"
      },
      "execution_count": 9,
      "outputs": [
        {
          "output_type": "stream",
          "name": "stdout",
          "text": [
            "b\n"
          ]
        }
      ]
    },
    {
      "cell_type": "markdown",
      "source": [
        "10. Write a code ro reverse the list [10,20,30,40,50].\n"
      ],
      "metadata": {
        "id": "2ThaRHNGpjK0"
      }
    },
    {
      "cell_type": "code",
      "source": [
        "num = [10,20,30,40,50]\n",
        "num.reverse()\n",
        "print(num)"
      ],
      "metadata": {
        "colab": {
          "base_uri": "https://localhost:8080/"
        },
        "id": "feVbE0QgpwpJ",
        "outputId": "208b28bf-57d9-4ee4-b949-bcc0c519dcbc"
      },
      "execution_count": 10,
      "outputs": [
        {
          "output_type": "stream",
          "name": "stdout",
          "text": [
            "[50, 40, 30, 20, 10]\n"
          ]
        }
      ]
    },
    {
      "cell_type": "markdown",
      "source": [
        "11. Write a code to create a tuple with elements 10,20,30 and print it."
      ],
      "metadata": {
        "id": "DEeRVtzsqDSn"
      }
    },
    {
      "cell_type": "code",
      "source": [
        "my_tuple = (10,20,30)\n",
        "print(my_tuple)"
      ],
      "metadata": {
        "colab": {
          "base_uri": "https://localhost:8080/"
        },
        "id": "BdShq3qAqcHK",
        "outputId": "86aab1ab-fe2d-42d5-9c4f-3347b2b90f73"
      },
      "execution_count": 11,
      "outputs": [
        {
          "output_type": "stream",
          "name": "stdout",
          "text": [
            "(10, 20, 30)\n"
          ]
        }
      ]
    },
    {
      "cell_type": "markdown",
      "source": [
        "12. Write a code to access the first element of the tuple('apple' , 'banana','cherry')\n"
      ],
      "metadata": {
        "id": "IxI_Zlg7qqv-"
      }
    },
    {
      "cell_type": "code",
      "source": [
        "fruits = ('apple', 'banana' , 'cheery')\n",
        "first_fruit = fruits[0]\n",
        "print(first_fruit)"
      ],
      "metadata": {
        "colab": {
          "base_uri": "https://localhost:8080/"
        },
        "id": "SpR46-J6q-O8",
        "outputId": "6be9a615-1116-45fb-a0b0-70edf6a92d1c"
      },
      "execution_count": 12,
      "outputs": [
        {
          "output_type": "stream",
          "name": "stdout",
          "text": [
            "apple\n"
          ]
        }
      ]
    },
    {
      "cell_type": "markdown",
      "source": [
        "13. Write a code to count how many times the number 2 appears in the tuple(1,2,3,2,4,2).\n"
      ],
      "metadata": {
        "id": "Sui-4uUyrg37"
      }
    },
    {
      "cell_type": "code",
      "source": [
        "numbers = (1,2,3,2,4,2)\n",
        "count = numbers.count(2)\n",
        "print(count)"
      ],
      "metadata": {
        "colab": {
          "base_uri": "https://localhost:8080/"
        },
        "id": "ZRkSxf87rwmr",
        "outputId": "552d145d-5692-4cc6-c468-a8583f6e0899"
      },
      "execution_count": 13,
      "outputs": [
        {
          "output_type": "stream",
          "name": "stdout",
          "text": [
            "3\n"
          ]
        }
      ]
    },
    {
      "cell_type": "markdown",
      "source": [
        "14. Write a code to find the index of the element \"cat\" in the tuple('dog','cat','rabbit').\n"
      ],
      "metadata": {
        "id": "VbfUN9rWsAlU"
      }
    },
    {
      "cell_type": "code",
      "source": [
        "animals = ('dog' , 'cat' , 'rabbit')\n",
        "index_of_cat = animals.index('cat')\n",
        "print(index_of_cat)"
      ],
      "metadata": {
        "colab": {
          "base_uri": "https://localhost:8080/"
        },
        "id": "DyouSAb2sRmx",
        "outputId": "d7174937-51a4-46d0-f289-92eafcd9e77f"
      },
      "execution_count": 14,
      "outputs": [
        {
          "output_type": "stream",
          "name": "stdout",
          "text": [
            "1\n"
          ]
        }
      ]
    },
    {
      "cell_type": "markdown",
      "source": [
        "15. Write a code to check if the element \"banana\" is in the tuple ('apple','orange','banana').\n"
      ],
      "metadata": {
        "id": "zhTXvBnKs0oY"
      }
    },
    {
      "cell_type": "code",
      "source": [
        "fruits = ('apple' , 'orange', 'banana')\n",
        "is_banana_in_tuple = 'banana' in fruits\n",
        "print(is_banana_in_tuple)"
      ],
      "metadata": {
        "colab": {
          "base_uri": "https://localhost:8080/"
        },
        "id": "iVFaFTAHtZtO",
        "outputId": "91685ed0-a351-4bfa-f4fc-74bf0ddb3ded"
      },
      "execution_count": 15,
      "outputs": [
        {
          "output_type": "stream",
          "name": "stdout",
          "text": [
            "True\n"
          ]
        }
      ]
    },
    {
      "cell_type": "markdown",
      "source": [
        "16. Write a code to create a set with the elements 1,2,3,4,5 abd print it.\n"
      ],
      "metadata": {
        "id": "e49tmldyt5Sk"
      }
    },
    {
      "cell_type": "code",
      "source": [
        "my_set = {1,2,3,4,5}\n",
        "print(my_set)"
      ],
      "metadata": {
        "colab": {
          "base_uri": "https://localhost:8080/"
        },
        "id": "6hkaaG6tuEEs",
        "outputId": "a7b8a312-67f4-4bf9-fe6c-d878913fe94e"
      },
      "execution_count": 16,
      "outputs": [
        {
          "output_type": "stream",
          "name": "stdout",
          "text": [
            "{1, 2, 3, 4, 5}\n"
          ]
        }
      ]
    },
    {
      "cell_type": "markdown",
      "source": [
        "17. Write a code to add the element 6 to the set {1,2,3,4}."
      ],
      "metadata": {
        "id": "ahCQjdbHuMgA"
      }
    },
    {
      "cell_type": "code",
      "source": [
        "my_set ={1,2,3,4}\n",
        "my_set.add(6)\n",
        "print(my_set)"
      ],
      "metadata": {
        "colab": {
          "base_uri": "https://localhost:8080/"
        },
        "id": "PgChgGDOuV3U",
        "outputId": "7ca234a0-6a5e-48a4-e0ec-01d651eeda47"
      },
      "execution_count": 19,
      "outputs": [
        {
          "output_type": "stream",
          "name": "stdout",
          "text": [
            "{1, 2, 3, 4, 6}\n"
          ]
        }
      ]
    },
    {
      "cell_type": "markdown",
      "source": [
        "18. Write a code to create a tuple with the elements 10,20,30 and print it."
      ],
      "metadata": {
        "id": "ic9aqImrulM-"
      }
    },
    {
      "cell_type": "code",
      "source": [
        "my_tuple = (10,20,30)\n",
        "print(my_tuple)"
      ],
      "metadata": {
        "colab": {
          "base_uri": "https://localhost:8080/"
        },
        "id": "R8tFQGq3u-hp",
        "outputId": "957841c3-cbaf-4afe-89ea-31e4da2f3f8c"
      },
      "execution_count": 20,
      "outputs": [
        {
          "output_type": "stream",
          "name": "stdout",
          "text": [
            "(10, 20, 30)\n"
          ]
        }
      ]
    },
    {
      "cell_type": "markdown",
      "source": [
        "19. Write a code to access the first element of the tuple('apple'.'banana','cheery')."
      ],
      "metadata": {
        "id": "CAoWkVeRvFBK"
      }
    },
    {
      "cell_type": "code",
      "source": [
        "fruits = ('apple', 'banana', 'cheery')\n",
        "first_fruit = fruits[0]\n",
        "print(first_fruit)"
      ],
      "metadata": {
        "colab": {
          "base_uri": "https://localhost:8080/"
        },
        "id": "aBUSd4xwvRfz",
        "outputId": "62cedab3-ad86-4c87-ae20-2e846ce4a26a"
      },
      "execution_count": 21,
      "outputs": [
        {
          "output_type": "stream",
          "name": "stdout",
          "text": [
            "apple\n"
          ]
        }
      ]
    },
    {
      "cell_type": "markdown",
      "source": [
        "20. Write a code to count how many times the number 2 appears in the tuple(1,2,3,2,4,2)."
      ],
      "metadata": {
        "id": "TKdc-kNAvwdq"
      }
    },
    {
      "cell_type": "code",
      "source": [
        "numbers = (1,2,3,2,4,2)\n",
        "count = numbers.count(2)\n",
        "print(count)"
      ],
      "metadata": {
        "colab": {
          "base_uri": "https://localhost:8080/"
        },
        "id": "ladnxEgIv_gP",
        "outputId": "b414657e-92f2-484b-c351-011b64ea0ca9"
      },
      "execution_count": 22,
      "outputs": [
        {
          "output_type": "stream",
          "name": "stdout",
          "text": [
            "3\n"
          ]
        }
      ]
    },
    {
      "cell_type": "markdown",
      "source": [
        "21. Write a code to find the index of the element \"cat\" in the tuple('dog','cat'.'rabbit')"
      ],
      "metadata": {
        "id": "dKh6MggMwdRU"
      }
    },
    {
      "cell_type": "code",
      "source": [
        "animals = ('dog','cat','rabbit')\n",
        "index_of_cat = animals.index('cat')\n",
        "print(index_of_cat)"
      ],
      "metadata": {
        "colab": {
          "base_uri": "https://localhost:8080/"
        },
        "id": "YbcRBecSwu0_",
        "outputId": "4c5f7882-1524-4fb0-aead-0093530334f9"
      },
      "execution_count": 23,
      "outputs": [
        {
          "output_type": "stream",
          "name": "stdout",
          "text": [
            "1\n"
          ]
        }
      ]
    },
    {
      "cell_type": "markdown",
      "source": [
        "22. Write a code to check if the element \"banana\" is in the tuple('apple','orange','banana').\n"
      ],
      "metadata": {
        "id": "mWL5tERPxIsi"
      }
    },
    {
      "cell_type": "code",
      "source": [
        "# this question solved in question 15"
      ],
      "metadata": {
        "id": "ZFLlCDo4xWCM"
      },
      "execution_count": null,
      "outputs": []
    },
    {
      "cell_type": "markdown",
      "source": [
        "23. Write a code to crate a set wity the elements 1,2,3,4,5, and print it."
      ],
      "metadata": {
        "id": "l476xTo5xdVr"
      }
    },
    {
      "cell_type": "code",
      "source": [
        "my_set = {1,2,3,4,5}\n",
        "print(my_set)"
      ],
      "metadata": {
        "colab": {
          "base_uri": "https://localhost:8080/"
        },
        "id": "6d5l8QjOx9ZD",
        "outputId": "06c48ff7-efa8-4ac1-840b-edb16ecaca2c"
      },
      "execution_count": 24,
      "outputs": [
        {
          "output_type": "stream",
          "name": "stdout",
          "text": [
            "{1, 2, 3, 4, 5}\n"
          ]
        }
      ]
    },
    {
      "cell_type": "markdown",
      "source": [
        "24. Write a code to add the element 6 to the set {1,2,3,4}."
      ],
      "metadata": {
        "id": "H4B5FDAHyEj1"
      }
    },
    {
      "cell_type": "code",
      "source": [
        "# again same question i solved in question number 17."
      ],
      "metadata": {
        "id": "bcdeU8QpyQe0"
      },
      "execution_count": null,
      "outputs": []
    }
  ]
}